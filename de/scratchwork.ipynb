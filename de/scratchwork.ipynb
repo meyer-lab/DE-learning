{
 "cells": [
  {
   "cell_type": "code",
   "execution_count": null,
   "metadata": {},
   "outputs": [],
   "source": [
    "\"\"\"Contains function for importing and handling knockout RNAseq data\"\"\"\n",
    "from os.path import join, dirname\n",
    "import pandas as pd\n",
    "\n",
    "def importRNAseqKO():\n",
    "    data = pd.read_csv(\"data/rpmCounts_allRuns_matrix.tsv.xz\", index_col=\"GeneSymbol\", delim_whitespace = True)\n",
    "    data = data.drop([\"gene_id\"], axis=1) # using GeneSymbol as index\n",
    "    data = data.dropna(axis=1) # remove columns with no measurements\n",
    "    KO_genes = list(list(zip(*data.columns.str.split(\"-\")))[0])\n",
    "    data.columns = KO_genes\n",
    "    return data"
   ]
  },
  {
   "cell_type": "code",
   "execution_count": null,
   "metadata": {},
   "outputs": [],
   "source": [
    "data = importRNAseqKO()\n",
    "data_combined = data.groupby(by=data.columns, axis=1).mean()\n",
    "data_combined = data_combined.groupby([\"GeneSymbol\"]).max()\n",
    "data_combined['neg'] = data_combined[['neg01', 'neg10']].mean(axis=1)\n",
    "for i in range(1, 10):\n",
    "    data_combined = data_combined.drop([\"neg0\"+str(i)], axis=1)\n",
    "data_combined = data_combined.drop([\"neg10\"], axis=1)\n",
    "data_combined = data_combined.drop([\"WT\"], axis=1)"
   ]
  },
  {
   "cell_type": "code",
   "execution_count": null,
   "metadata": {},
   "outputs": [],
   "source": [
    "data_combined.columns"
   ]
  },
  {
   "cell_type": "code",
   "execution_count": null,
   "metadata": {},
   "outputs": [],
   "source": [
    "data_combined.loc[\"FOSL1\",\"FOSL1\"]"
   ]
  },
  {
   "cell_type": "code",
   "execution_count": null,
   "metadata": {},
   "outputs": [],
   "source": [
    "import matplotlib.pyplot as plt\n",
    "from sklearn.preprocessing import normalize\n",
    "from sklearn.decomposition import PCA\n",
    "import numpy as np\n",
    "%matplotlib inline\n",
    "\n",
    "#------------------------- Perform PCA using sklearn\n",
    "def pca(data,num_components):\n",
    "    \"Function takes in parameter for number of components. Returns list containing: [PCA object, fitted model]\"\n",
    "    pca = PCA(n_components=num_components)\n",
    "    X_r = pca.fit(normalize(data)).transform(data)\n",
    "    return [pca, X_r]\n",
    "\n",
    "#-------------------------- Calculate cumulative variance based on number of PCs included and create r2x plot\n",
    "def r2x(num_components, pca):\n",
    "    \"\"\"Function creates r2x plot comparing number of components to % variance captured.\n",
    "    Parameters include: number of components, pca object from pca()\"\"\"\n",
    "    total_variance = np.array([])\n",
    "    tot = 0.0\n",
    "    for i in range(0,num_components):\n",
    "        tot += pca.explained_variance_ratio_[i]\n",
    "        total_variance = np.append(total_variance, tot)\n",
    "\n",
    "    fig = plt.figure(figsize = (8,8))\n",
    "    ax = plt.subplot(111) \n",
    "    ax.set_xlabel(\"Number of PCs\", fontsize = 15)\n",
    "    ax.set_ylabel(\"% Variance\", fontsize = 15)\n",
    "    plt.xticks(np.arange(num_components+1))\n",
    "    plt.plot(list(range(1,num_components+1)),total_variance)\n",
    "    ax.grid()\n",
    "    plt.title(\"r2x Plot\", fontsize = 18)\n",
    "    "
   ]
  },
  {
   "cell_type": "code",
   "execution_count": null,
   "metadata": {},
   "outputs": [],
   "source": [
    "pca_list = pca(data.T,10)\n",
    "r2x(10, pca_list[0])\n",
    "X_r = pca_list[1]\n",
    "KO_genes = data.columns\n",
    "KO_genes_unique = list(set(KO_genes))\n",
    "df = pd.DataFrame(X_r)\n",
    "df[\"KO Gene\"] = KO_genes"
   ]
  },
  {
   "cell_type": "code",
   "execution_count": null,
   "metadata": {},
   "outputs": [],
   "source": [
    "import matplotlib.colors as colors\n",
    "import matplotlib.cm as cmx\n",
    "\n",
    "#-------------------------- Create PC plots\n",
    "\n",
    "# Set the color map to match the number of species\n",
    "z = range(1,len(KO_genes_unique))\n",
    "rainbow = plt.get_cmap('rainbow')\n",
    "cNorm  = colors.Normalize(vmin=0, vmax=len(KO_genes_unique))\n",
    "scalarMap = cmx.ScalarMappable(norm=cNorm, cmap=rainbow)\n",
    "\n",
    "fig = plt.figure(figsize=(50,40))\n",
    "# PC1 vs PC2\n",
    "ax = plt.subplot(231)\n",
    "ax.set_xlabel(\"PC1\", fontsize = 15)\n",
    "ax.set_ylabel(\"PC2\", fontsize = 15)\n",
    "for i in range(len(KO_genes_unique)):\n",
    "    indx = df[\"KO Gene\"] == KO_genes_unique[i]\n",
    "    plt.scatter(df.iloc[:,0][indx], df.iloc[:,1][indx], s=10, color=scalarMap.to_rgba(i), label=KO_genes_unique[i])\n",
    "ax.grid()\n",
    "for i, txt in enumerate(KO_genes):\n",
    "    ax.annotate(txt, (df.iloc[i,0], df.iloc[i,1]), fontsize=6)\n",
    "\n",
    "# PC1 vs PC3\n",
    "ax = plt.subplot(232)\n",
    "ax.set_xlabel(\"PC1\", fontsize = 15)\n",
    "ax.set_ylabel(\"PC3\", fontsize = 15)\n",
    "for i in range(len(KO_genes_unique)):\n",
    "    indx = df[\"KO Gene\"] == KO_genes_unique[i]\n",
    "    plt.scatter(df.iloc[:,0][indx], df.iloc[:,2][indx], s=10, color=scalarMap.to_rgba(i), label=KO_genes_unique[i])\n",
    "ax.grid()\n",
    "for i, txt in enumerate(KO_genes):\n",
    "    ax.annotate(txt, (df.iloc[i,0], df.iloc[i,2]), fontsize=6)\n",
    "\n",
    "# PC1 vs PC4\n",
    "ax = plt.subplot(233)\n",
    "ax.set_xlabel(\"PC1\", fontsize = 15)\n",
    "ax.set_ylabel(\"PC4\", fontsize = 15)\n",
    "for i in range(len(KO_genes_unique)):\n",
    "    indx = df[\"KO Gene\"] == KO_genes_unique[i]\n",
    "    plt.scatter(df.iloc[:,0][indx], df.iloc[:,3][indx], s=10, color=scalarMap.to_rgba(i), label=KO_genes_unique[i])\n",
    "ax.grid()\n",
    "for i, txt in enumerate(KO_genes):\n",
    "    ax.annotate(txt, (df.iloc[i,0], df.iloc[i,3]), fontsize=6)\n",
    "\n",
    "# PC2 vs PC3\n",
    "ax = plt.subplot(234)\n",
    "ax.set_xlabel(\"PC2\", fontsize = 15)\n",
    "ax.set_ylabel(\"PC3\", fontsize = 15)\n",
    "for i in range(len(KO_genes_unique)):\n",
    "    indx = df[\"KO Gene\"] == KO_genes_unique[i]\n",
    "    plt.scatter(df.iloc[:,1][indx], df.iloc[:,2][indx], s=10, color=scalarMap.to_rgba(i), label=KO_genes_unique[i])\n",
    "ax.grid()\n",
    "for i, txt in enumerate(KO_genes):\n",
    "    ax.annotate(txt, (df.iloc[i,1], df.iloc[i,2]), fontsize=6)\n",
    "\n",
    "# PC2 vs PC4\n",
    "ax = plt.subplot(235)\n",
    "ax.set_xlabel(\"PC1\", fontsize = 15)\n",
    "ax.set_ylabel(\"PC3\", fontsize = 15)\n",
    "for i in range(len(KO_genes_unique)):\n",
    "    indx = df[\"KO Gene\"] == KO_genes_unique[i]\n",
    "    plt.scatter(df.iloc[:,1][indx], df.iloc[:,3][indx], s=10, color=scalarMap.to_rgba(i), label=KO_genes_unique[i])\n",
    "ax.grid()\n",
    "for i, txt in enumerate(KO_genes):\n",
    "    ax.annotate(txt, (df.iloc[i,1], df.iloc[i,3]), fontsize=6)\n",
    "\n",
    "# PC3 vs PC4\n",
    "ax = plt.subplot(236)\n",
    "ax.set_xlabel(\"PC3\", fontsize = 15)\n",
    "ax.set_ylabel(\"PC4\", fontsize = 15)\n",
    "for i in range(len(KO_genes_unique)):\n",
    "    indx = df[\"KO Gene\"] == KO_genes_unique[i]\n",
    "    plt.scatter(df.iloc[:,2][indx], df.iloc[:,3][indx], s=10, color=scalarMap.to_rgba(i), label=KO_genes_unique[i])\n",
    "ax.grid()\n",
    "for i, txt in enumerate(KO_genes):\n",
    "    ax.annotate(txt, (df.iloc[i,2], df.iloc[i,3]), fontsize=6)"
   ]
  },
  {
   "cell_type": "code",
   "execution_count": null,
   "metadata": {},
   "outputs": [],
   "source": [
    "#-------------------------- Plot individual knockouts for PC1 vs PC2\n",
    "fig, axes = plt.subplots(nrows=47, ncols=2,figsize=(30,180))\n",
    "fig.suptitle('KO Genes PC1 v PC2')\n",
    "for ax, name in zip(axes.flatten(), KO_genes_unique):\n",
    "    indx = df[\"KO Gene\"] == name\n",
    "    ax.scatter(df.iloc[:,0][indx], df.iloc[:,1][indx], s=30)\n",
    "    ax.grid()\n",
    "    ax.set_title(name)\n",
    "    ax.set_xlim((-20000,7000))\n",
    "    ax.set_ylim((-25000,18000))\n",
    "fig = ax.get_figure()\n",
    "fig.text(0.5, 0.04, 'PC1', ha='center', va='center')\n",
    "fig.text(0.06, 0.5, 'PC2', ha='center', va='center', rotation='vertical')\n",
    "fig.tight_layout()\n",
    "fig.subplots_adjust(top=0.975)\n",
    "#plt.savefig(\"PC2vPC1_all.png\")"
   ]
  },
  {
   "cell_type": "code",
   "execution_count": null,
   "metadata": {},
   "outputs": [],
   "source": [
    "#-------------------------- Analyze spread of replicates' PC scores\n",
    "PC_KO_spreads = pd.DataFrame(KO_genes_unique, columns=[\"KO GeneSymbol\"])\n",
    "PC_KO_spreads[\"Number of Replicates\"] = 0\n",
    "PC_KO_spreads[\"PC1 Spread\"] = 0\n",
    "PC_KO_spreads[\"PC2 Spread\"] = 0\n",
    "PC_KO_spreads[\"PC3 Spread\"] = 0\n",
    "PC_KO_spreads[\"PC4 Spread\"] = 0\n",
    "PC_KO_spreads[\"PC5 Spread\"] = 0\n",
    "PC_KO_spreads[\"PC6 Spread\"] = 0\n",
    "PC_KO_spreads[\"PC7 Spread\"] = 0\n",
    "PC_KO_spreads[\"PC8 Spread\"] = 0\n",
    "PC_KO_spreads[\"PC9 Spread\"] = 0\n",
    "PC_KO_spreads[\"PC10 Spread\"] = 0\n",
    "PC_KO_spreads = PC_KO_spreads.set_index(\"KO GeneSymbol\")\n",
    "df"
   ]
  },
  {
   "cell_type": "code",
   "execution_count": null,
   "metadata": {},
   "outputs": [],
   "source": [
    "df = df.set_index(\"KO Gene\")\n",
    "for i in range(1, 11):\n",
    "    for gene in KO_genes_unique:\n",
    "        PC_KO_spreads.loc[gene, \"PC\"+str(i)+\" Spread\"] = df.loc[gene, (i-1)].max()-df.loc[gene, (i-1)].min()\n",
    "        PC_KO_spreads.loc[gene, \"Number of Replicates\"] = df.loc[[gene]].shape[0]\n",
    "\n",
    "# Remove all single replicate knockout genes and WT\n",
    "mask = (PC_KO_spreads[\"Number of Replicates\"] > 1)  & (PC_KO_spreads[\"Number of Replicates\"] < 10)\n",
    "PC_KO_spreads = PC_KO_spreads[mask] \n",
    "# Display boxplots of PC spread\n",
    "boxplot = PC_KO_spreads.boxplot(column=[\"PC1 Spread\", \"PC2 Spread\", \"PC3 Spread\", \"PC4 Spread\",\n",
    "                                       \"PC5 Spread\", \"PC6 Spread\", \"PC7 Spread\", \"PC8 Spread\",\n",
    "                                       \"PC9 Spread\", \"PC10 Spread\"], figsize=(12, 8))"
   ]
  },
  {
   "cell_type": "code",
   "execution_count": null,
   "metadata": {},
   "outputs": [],
   "source": [
    "# Calculate 75th percentile for each PC\n",
    "Q3_1 = PC_KO_spreads[\"PC1 Spread\"].quantile(0.75)\n",
    "Q3_2 = PC_KO_spreads[\"PC2 Spread\"].quantile(0.75)\n",
    "Q3_3 = PC_KO_spreads[\"PC3 Spread\"].quantile(0.75)\n",
    "Q3_4 = PC_KO_spreads[\"PC4 Spread\"].quantile(0.75)\n",
    "\n",
    "# Find genes with spread above 75th quartile for all 4 PCs:\n",
    "PC_KO_spreads.loc[(PC_KO_spreads[\"PC1 Spread\"] > Q3_1) & (PC_KO_spreads[\"PC2 Spread\"] > Q3_2)\n",
    "                  & (PC_KO_spreads[\"PC3 Spread\"] > Q3_3) & (PC_KO_spreads[\"PC4 Spread\"] > Q3_4)]\n",
    "        # Genes: THAP11, INO80, BUB1B, KDM1A\n",
    "\n",
    "# Find genes with spread above 75th quartile for at least 3 PCs:\n",
    "PC_KO_spreads.loc[((PC_KO_spreads[\"PC1 Spread\"] > Q3_1) & (PC_KO_spreads[\"PC2 Spread\"] > Q3_2)\n",
    "                  & (PC_KO_spreads[\"PC3 Spread\"] > Q3_3)) | ((PC_KO_spreads[\"PC4 Spread\"] > Q3_4)\n",
    "                  & (PC_KO_spreads[\"PC2 Spread\"] > Q3_2) & (PC_KO_spreads[\"PC3 Spread\"] > Q3_3))\n",
    "                  | ((PC_KO_spreads[\"PC1 Spread\"] > Q3_1) & (PC_KO_spreads[\"PC2 Spread\"] > Q3_2)\n",
    "                  & (PC_KO_spreads[\"PC4 Spread\"] > Q3_4)) | ((PC_KO_spreads[\"PC1 Spread\"] > Q3_1)\n",
    "                  & (PC_KO_spreads[\"PC3 Spread\"] > Q3_3) & (PC_KO_spreads[\"PC4 Spread\"] > Q3_4))]\n",
    "        # Genes: MAPK1, NFYA, MITF, PLK1, SRF, THAP11, ZFX, SOX10, ZBTB17, INO80, PRPF4B, BUB1B, KDM1A\n",
    "\n",
    "# Calculate 25th percentile for each PC\n",
    "Q1_1 = PC_KO_spreads[\"PC1 Spread\"].quantile(0.25)\n",
    "Q1_2 = PC_KO_spreads[\"PC2 Spread\"].quantile(0.25)\n",
    "Q1_3 = PC_KO_spreads[\"PC3 Spread\"].quantile(0.25)\n",
    "Q1_4 = PC_KO_spreads[\"PC4 Spread\"].quantile(0.25)\n",
    "\n",
    "# Find genes with spread below 25th quartile for all 4 PCs:\n",
    "PC_KO_spreads.loc[(PC_KO_spreads[\"PC1 Spread\"] < Q1_1) & (PC_KO_spreads[\"PC2 Spread\"] < Q1_2)\n",
    "                  & (PC_KO_spreads[\"PC3 Spread\"] < Q1_3) & (PC_KO_spreads[\"PC4 Spread\"] < Q1_4)]\n",
    "        # Genes: VDR, SETD1B, LHX1, MAPKAPK2, DEAF1, JUNB, KDM2A, GATA4\n",
    "    \n",
    "# Sum spread over all PCs and sort\n",
    "PC_KO_spreads[\"Spread Sum\"] = PC_KO_spreads.sum(axis=1) - PC_KO_spreads[\"Number of Replicates\"]\n",
    "PC_KO_spreads = PC_KO_spreads.sort_values(by=[\"Spread Sum\"], ascending=False)\n",
    "PC_KO_spreads"
   ]
  },
  {
   "cell_type": "code",
   "execution_count": null,
   "metadata": {},
   "outputs": [],
   "source": [
    "#-------------------------- PCA with replicates averaged together\n",
    "pca_list_combined = pca(data_combined.T,10)\n",
    "r2x(10, pca_list_combined[0])\n",
    "X_r_combined = pca_list_combined[1]"
   ]
  },
  {
   "cell_type": "code",
   "execution_count": null,
   "metadata": {},
   "outputs": [],
   "source": [
    "print(\"Replicates: \", pca_list[0].explained_variance_ratio_)\n",
    "print(\"Averaged: \", pca_list_combined[0].explained_variance_ratio_)"
   ]
  },
  {
   "cell_type": "code",
   "execution_count": null,
   "metadata": {},
   "outputs": [],
   "source": [
    "X_r_combined.shape"
   ]
  },
  {
   "cell_type": "code",
   "execution_count": null,
   "metadata": {},
   "outputs": [],
   "source": [
    "data_combined"
   ]
  },
  {
   "cell_type": "code",
   "execution_count": null,
   "metadata": {},
   "outputs": [],
   "source": [
    "print(data_combined.columns)"
   ]
  },
  {
   "cell_type": "code",
   "execution_count": null,
   "metadata": {},
   "outputs": [],
   "source": [
    "data_combined = data_combined.sort_index()"
   ]
  },
  {
   "cell_type": "code",
   "execution_count": null,
   "metadata": {},
   "outputs": [],
   "source": [
    "matrix = pd.DataFrame()\n",
    "for i, gene in enumerate(data_combined.columns):\n",
    "    if gene != \"neg\":\n",
    "        matrix[gene] = data_combined.loc[gene,:]\n",
    "matrix = matrix.T\n",
    "matrix"
   ]
  },
  {
   "cell_type": "code",
   "execution_count": null,
   "metadata": {},
   "outputs": [],
   "source": [
    "restart the kernel and clear all outputs"
   ]
  },
  {
   "cell_type": "code",
   "execution_count": null,
   "metadata": {},
   "outputs": [],
   "source": []
  }
 ],
 "metadata": {
  "kernelspec": {
   "display_name": "Python 3",
   "language": "python",
   "name": "python3"
  },
  "language_info": {
   "codemirror_mode": {
    "name": "ipython",
    "version": 3
   },
   "file_extension": ".py",
   "mimetype": "text/x-python",
   "name": "python",
   "nbconvert_exporter": "python",
   "pygments_lexer": "ipython3",
   "version": "3.8.2"
  }
 },
 "nbformat": 4,
 "nbformat_minor": 4
}
