{
 "cells": [
  {
   "cell_type": "code",
   "execution_count": 2,
   "metadata": {},
   "outputs": [],
   "source": [
    "'''Add a test to the simulation of ODE. \n",
    "   The dimension of parameters(eps,w,alpha,beta) should be n_x, n_x*n_x, n_x, n_x.\n",
    "   Expected results would be an array with N_t columns and nx rows.\n",
    "   In addition, the relative concentration of knockout component should approach zero.\n",
    "'''\n",
    "\n",
    "import unittest\n",
    "import numpy as np\n",
    "from model import Model\n",
    "\n",
    "class Test_ODE(unittest.TestCase):\n",
    "    '''Test class for basic simulation of ODE systems'''\n",
    "    def test_params(self):\n",
    "        test1 = Model()\n",
    "        test1.random_params()\n",
    "        self.assertEqual(np.shape(test1.eps), (test1.n_x,))\n",
    "        self.assertEqual(np.shape(test1.w), (test1.n_x,test1.n_x))\n",
    "        self.assertEqual(np.shape(test1.alpha), (test1.n_x,))\n",
    "        self.assertEqual(np.shape(test1.beta), (test1.n_x,))\n",
    "        \n",
    "    def test_simulation(self):\n",
    "        test1 = Model()\n",
    "        test1.random_params()\n",
    "        test1.sim()\n",
    "        self.assertTrue(isinstance(test1.sol, np.ndarray))\n",
    "        self.assertEqual(len(test1.sol[:,0]), test1.N_t)\n",
    "        self.assertEqual(len(test1.sol[0,:]), test1.n_x)\n",
    "        self.assertEqual(int(test1.sol[50,0]), 0)"
   ]
  },
  {
   "cell_type": "code",
   "execution_count": 4,
   "metadata": {},
   "outputs": [
    {
     "name": "stdout",
     "output_type": "stream",
     "text": [
      "Success\n",
      "Success\n"
     ]
    }
   ],
   "source": []
  },
  {
   "cell_type": "code",
   "execution_count": null,
   "metadata": {},
   "outputs": [],
   "source": []
  }
 ],
 "metadata": {
  "kernelspec": {
   "display_name": "Python 3",
   "language": "python",
   "name": "python3"
  },
  "language_info": {
   "codemirror_mode": {
    "name": "ipython",
    "version": 3
   },
   "file_extension": ".py",
   "mimetype": "text/x-python",
   "name": "python",
   "nbconvert_exporter": "python",
   "pygments_lexer": "ipython3",
   "version": "3.7.4"
  }
 },
 "nbformat": 4,
 "nbformat_minor": 2
}
