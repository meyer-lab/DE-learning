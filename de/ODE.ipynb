{
 "cells": [
  {
   "cell_type": "code",
   "execution_count": null,
   "metadata": {},
   "outputs": [],
   "source": [
    "import numpy as np\n",
    "from scipy.integrate import odeint\n",
    "\n",
    "def solver(n_x,x0,eps,w,alpha,beta,dt,N_t):\n",
    "    '''Function receives time series and a set of parameters,\n",
    "       then return the simulation of ODE.\n",
    "    '''\n",
    "    t = np.linspace(0,dt*N_t,N_t)\n",
    "    sol = odeint(ODE,x0,t,args=(eps,w,alpha,beta))\n",
    "    return t,sol\n",
    "\n",
    "    \n",
    "def ODE(y,t,eps,w,alpha,beta):\n",
    "    '''The system of ODE'''\n",
    "    envelop_fn = np.tanh\n",
    "    x = y\n",
    "    dydt = eps * envelop_fn(np.dot(w,x)) - (alpha*beta) * x \n",
    "    #eps: Value that bound the saturation effect\n",
    "    #w: Interaction between components\n",
    "    #alpha: Degradation rate\n",
    "    #beta: Knock-out effects\n",
    "    return dydt"
   ]
  }
 ],
 "metadata": {
  "kernelspec": {
   "display_name": "Python 3",
   "language": "python",
   "name": "python3"
  },
  "language_info": {
   "codemirror_mode": {
    "name": "ipython",
    "version": 3
   },
   "file_extension": ".py",
   "mimetype": "text/x-python",
   "name": "python",
   "nbconvert_exporter": "python",
   "pygments_lexer": "ipython3",
   "version": "3.7.4"
  }
 },
 "nbformat": 4,
 "nbformat_minor": 2
}
