{
 "cells": [
  {
   "cell_type": "code",
   "execution_count": 3,
   "metadata": {},
   "outputs": [],
   "source": [
    "using OrdinaryDiffEq\n",
    "using LinearAlgebra\n",
    "using DiffEqSensitivity\n",
    "using Optim\n",
    "using Zygote\n",
    "using DelimitedFiles\n",
    "using TimerOutputs\n",
    "using BenchmarkTools"
   ]
  },
  {
   "cell_type": "code",
   "execution_count": 6,
   "metadata": {},
   "outputs": [],
   "source": [
    "\" Reshape a vector of parameters into the variables we know. \"\n",
    "@views function reshapeParams(p)\n",
    "    w = reshape(p[1:6889], (83, 83))\n",
    "    alpha = p[6890:6972]\n",
    "    eps = p[6973:7055]\n",
    "    \n",
    "    @assert length(eps) == 83\n",
    "    @assert length(alpha) == 83\n",
    "    \n",
    "    return w, alpha, eps\n",
    "end\n",
    "\n",
    "\" Melt the variables back into a parameter vector. \"\n",
    "function unshapeParams(w, alpha, eps)\n",
    "    return vcat(vec(w), alpha, eps)\n",
    "end\n",
    "\n",
    "\" The ODE equations we're using. \"\n",
    "function ODEeq(du, u, p, t)\n",
    "    w, alpha, eps = reshapeParams(p)\n",
    "    \n",
    "    du .= eps .* (1 .+ tanh.(w * u)) .- alpha .* u\n",
    "end\n",
    "\n",
    "\" Solve the ODE system. \"\n",
    "function solveODE(ps)\n",
    "    u0 = zeros(83)\n",
    "    tspan = (0.0, 10000.0)\n",
    "    prob = ODEProblem(ODEeq, u0, tspan, ps)\n",
    "    sol = last(solve(prob, AutoTsit5(TRBDF2()); saveat = tspan[2], reltol=1e-8, abstol=1e-8))\n",
    "    return sol\n",
    "end\n",
    "\n",
    "ps = ones(9408)\n",
    "solveODE(ps);"
   ]
  },
  {
   "cell_type": "code",
   "execution_count": 4,
   "metadata": {},
   "outputs": [
    {
     "data": {
      "text/plain": [
       "get_data"
      ]
     },
     "execution_count": 4,
     "metadata": {},
     "output_type": "execute_result"
    }
   ],
   "source": [
    "\" Load the experimental data matrix. \"\n",
    "function get_data(path_RNAseq)\n",
    "    # Import RNAseq data as 83 x 84 matrix preprocessed using python\n",
    "    exp = DelimitedFiles.readdlm(path_RNAseq, ',', Float64)\n",
    "    exp = Matrix(exp)\n",
    "    return exp\n",
    "end"
   ]
  },
  {
   "cell_type": "code",
   "execution_count": 41,
   "metadata": {},
   "outputs": [
    {
     "data": {
      "text/plain": [
       "83-element Array{Float64,1}:\n",
       " 2.0\n",
       " 2.0\n",
       " 2.0\n",
       " 2.0\n",
       " 2.0\n",
       " 2.0\n",
       " 2.0\n",
       " 2.0\n",
       " 2.0\n",
       " 2.0\n",
       " 2.0\n",
       " 2.0\n",
       " 2.0\n",
       " ⋮\n",
       " 2.0\n",
       " 2.0\n",
       " 2.0\n",
       " 2.0\n",
       " 2.0\n",
       " 2.0\n",
       " 2.0\n",
       " 2.0\n",
       " 2.0\n",
       " 2.0\n",
       " 2.0\n",
       " 2.0"
      ]
     },
     "execution_count": 41,
     "metadata": {},
     "output_type": "execute_result"
    }
   ],
   "source": [
    "\" Remove the effect of one gene across all others to simulate the KO experiments. \"\n",
    "\n",
    "function simKO(pIn, geneNum)\n",
    "    pIn = copy(pIn) # Need to copy as we're using views\n",
    "    w_temp, alpha, eps = reshapeParams(pIn)\n",
    "    \n",
    "    # Think we remove a column since this is the effect of one gene across all genes\n",
    "    if geneNum == 1\n",
    "        w = hcat(zeros(Float64, 83, 1), w_temp[:, 2:83])\n",
    "    elseif geneNum == 83\n",
    "        w = hcat(w_temp[:, 1:82], zeros(Float64, 83, 1))\n",
    "    else\n",
    "        w= hcat(w_temp[:, 1:geneNum - 1], zeros(Float64, 83, 1), w_temp[:, geneNum + 1:83])\n",
    "    end\n",
    "    \n",
    "    pIn = unshapeParams(w, alpha, eps)\n",
    "    \n",
    "    return solveODE(pIn)\n",
    "end\n",
    "\n",
    "simKO(ps, 1)"
   ]
  },
  {
   "cell_type": "code",
   "execution_count": null,
   "metadata": {},
   "outputs": [],
   "source": [
    "\" Cost function. Returns SSE between model and experimental RNAseq data. \"\n",
    "\n",
    "\n",
    "function cost(pIn)\n",
    "    exp_data = get_data(\"./de/data/exp_data.csv\")\n",
    "    sse = 0\n",
    "    for i = 1:83\n",
    "        sol_temp = simKO(pIn, i)\n",
    "        sse += sum((sol_temp .- exp_data[:, i]) .^ 2)\n",
    "    end\n",
    "    neg = solveODE(pIn)\n",
    "    sse += sum((neg .- exp_data[:, 84]) .^ 2)\n",
    "    return sse\n",
    "end\n",
    "\n",
    "# We can also take the gradient of the cost\n",
    "@btime grads = Zygote.gradient(cost, ps)"
   ]
  },
  {
   "cell_type": "code",
   "execution_count": null,
   "metadata": {},
   "outputs": [],
   "source": [
    "function g!(G, x)\n",
    "    grads = Zygote.gradient(cost, x)\n",
    "    G[:] .= grads[1]\n",
    "end\n",
    "\n",
    "#optimize(cost, g!, ps, LBFGS(), Optim.Options(iterations = 10, show_trace = true))"
   ]
  },
  {
   "cell_type": "code",
   "execution_count": 14,
   "metadata": {},
   "outputs": [
    {
     "name": "stdout",
     "output_type": "stream",
     "text": [
      "\u001b[0m\u001b[1m ────────────────────────────────────────────────────────────────────\u001b[22m\n",
      "\u001b[0m\u001b[1m                     \u001b[22m        Time                   Allocations      \n",
      "                     ──────────────────────   ───────────────────────\n",
      "  Tot / % measured:       806ms / 74.6%            161MiB / 93.7%    \n",
      "\n",
      " Section     ncalls     time   %tot     avg     alloc   %tot      avg\n",
      " ────────────────────────────────────────────────────────────────────\n",
      " loop1           83    585ms  97.4%  7.05ms    149MiB  98.8%  1.79MiB\n",
      "   solve         83    569ms  94.7%  6.86ms    130MiB  86.0%  1.56MiB\n",
      "   hcat3         81   5.97ms  0.99%  73.7μs   8.56MiB  5.68%   108KiB\n",
      "   unshape       83   3.17ms  0.53%  38.2μs   4.49MiB  2.98%  55.3KiB\n",
      "   hcat2          1    106μs  0.02%   106μs    108KiB  0.07%   108KiB\n",
      "   reshape       83   88.0μs  0.01%  1.06μs   16.9KiB  0.01%     208B\n",
      "   hcat1          1   66.4μs  0.01%  66.4μs    108KiB  0.07%   108KiB\n",
      " loop2        6.89k   15.9ms  2.65%  2.31μs   1.79MiB  1.19%     272B\n",
      "\u001b[0m\u001b[1m ────────────────────────────────────────────────────────────────────\u001b[22m"
     ]
    }
   ],
   "source": [
    "\n",
    "to = TimerOutput()\n",
    "\n",
    "\n",
    "function simKO(pIn, geneNum)\n",
    "    pIn = copy(pIn) # Need to copy as we're using views\n",
    "    @timeit to \"reshape\" w_temp, alpha, eps = reshapeParams(pIn)\n",
    "    \n",
    "    # Think we remove a column since this is the effect of one gene across all genes\n",
    "    if geneNum == 1\n",
    "        @timeit to \"hcat1\" w = hcat(zeros(Float64, 83, 1), w_temp[:, 2:83])\n",
    "    elseif geneNum == 83\n",
    "        @timeit to \"hcat2\" w = hcat(w_temp[:, 1:82], zeros(Float64, 83, 1))\n",
    "    else\n",
    "        @timeit to \"hcat3\" w= hcat(w_temp[:, 1:geneNum - 1], zeros(Float64, 83, 1), w_temp[:, geneNum + 1:83])\n",
    "    end\n",
    "    \n",
    "    @timeit to \"unshape\" pIn = unshapeParams(w, alpha, eps)\n",
    "    \n",
    "    @timeit to \"solve\" return solveODE(pIn)\n",
    "end\n",
    "\n",
    "function cost(pIn)\n",
    "    exp_data = get_data(\"./de/data/exp_data.csv\")\n",
    "    sse = 0\n",
    "    for i = 1:83\n",
    "        @timeit to \"loop1\" sol_temp = simKO(pIn, i)\n",
    "        @timeit to \"loop2\" sse += sum((sol_temp .- exp_data[:, i]) .^ 2)\n",
    "        end\n",
    "    end\n",
    "    neg = solveODE(pIn)\n",
    "    sse += sum((neg .- exp_data[:, 84]) .^ 2)\n",
    "    return sse\n",
    "end\n",
    "\n",
    "cost(ps)\n",
    "show(to)\n"
   ]
  }
 ],
 "metadata": {
  "kernelspec": {
   "display_name": "Julia 1.4.2",
   "language": "julia",
   "name": "julia-1.4"
  },
  "language_info": {
   "file_extension": ".jl",
   "mimetype": "application/julia",
   "name": "julia",
   "version": "1.4.2"
  }
 },
 "nbformat": 4,
 "nbformat_minor": 4
}
