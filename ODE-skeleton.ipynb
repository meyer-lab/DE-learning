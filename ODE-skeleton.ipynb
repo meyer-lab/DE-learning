{
 "cells": [
  {
   "cell_type": "code",
   "execution_count": 8,
   "metadata": {},
   "outputs": [],
   "source": [
    "using OrdinaryDiffEq\n",
    "using LinearAlgebra\n",
    "using DiffEqSensitivity\n",
    "using Optim\n",
    "using Zygote\n",
    "using DelimitedFiles"
   ]
  },
  {
   "cell_type": "code",
   "execution_count": 2,
   "metadata": {},
   "outputs": [],
   "source": [
    "\" Reshape a vector of parameters into the variables we know. \"\n",
    "@views function reshapeParams(p)\n",
    "    w = reshape(p[1:6889], (83, 83))\n",
    "    alpha = p[6890:6972]\n",
    "    eps = p[6973:7055]\n",
    "    \n",
    "    @assert length(eps) == 83\n",
    "    @assert length(alpha) == 83\n",
    "    \n",
    "    return w, alpha, eps\n",
    "end\n",
    "\n",
    "\" Melt the variables back into a parameter vector. \"\n",
    "function unshapeParams(w, alpha, eps)\n",
    "    return vcat(vec(w), alpha, eps)\n",
    "end\n",
    "\n",
    "\" The ODE equations we're using. \"\n",
    "function ODEeq(du, u, p, t)\n",
    "    w, alpha, eps = reshapeParams(p)\n",
    "    \n",
    "    du .= eps .* (1 .+ tanh.(w * u)) .- alpha .* u\n",
    "end\n",
    "\n",
    "\" Solve the ODE system. \"\n",
    "function solveODE(ps)\n",
    "    u0 = zeros(83)\n",
    "    tspan = (0.0, 10000.0)\n",
    "    prob = ODEProblem(ODEeq, u0, tspan, ps)\n",
    "    sol = last(solve(prob, AutoTsit5(TRBDF2()); saveat = tspan[2], reltol=1e-8, abstol=1e-8))\n",
    "    return sol\n",
    "end\n",
    "\n",
    "ps = ones(9408)\n",
    "solveODE(ps);"
   ]
  },
  {
   "cell_type": "code",
   "execution_count": 10,
   "metadata": {},
   "outputs": [
    {
     "data": {
      "text/plain": [
       "83-element Array{Float64,1}:\n",
       " 2.0\n",
       " 2.0\n",
       " 2.0\n",
       " 2.0\n",
       " 2.0\n",
       " 2.0\n",
       " 2.0\n",
       " 2.0\n",
       " 2.0\n",
       " 2.0\n",
       " 2.0\n",
       " 2.0\n",
       " 2.0\n",
       " ⋮\n",
       " 2.0\n",
       " 2.0\n",
       " 2.0\n",
       " 2.0\n",
       " 2.0\n",
       " 2.0\n",
       " 2.0\n",
       " 2.0\n",
       " 2.0\n",
       " 2.0\n",
       " 2.0\n",
       " 2.0"
      ]
     },
     "execution_count": 10,
     "metadata": {},
     "output_type": "execute_result"
    }
   ],
   "source": [
    "\" Remove the effect of one gene across all others to simulate the KO experiments. \"\n",
    "function simKO(pIn, geneNum)\n",
    "    pIn = copy(pIn) # Need to copy as we're using views\n",
    "    w, alpha, eps = reshapeParams(pIn)\n",
    "    \n",
    "    w[:, geneNum] .= 0.0 # Think we remove a column since this is the effect of one gene across all genes\n",
    "    \n",
    "    pIn = unshapeParams(w, alpha, eps)\n",
    "    \n",
    "    return solveODE(pIn)\n",
    "end\n",
    "\n",
    "simKO(ps, 1)"
   ]
  },
  {
   "cell_type": "code",
   "execution_count": 34,
   "metadata": {},
   "outputs": [
    {
     "data": {
      "text/plain": [
       "find_sol"
      ]
     },
     "execution_count": 34,
     "metadata": {},
     "output_type": "execute_result"
    }
   ],
   "source": [
    "\" Helper function to form solution matrix from solving model. \"\n",
    "function find_sol(pIn)\n",
    "    sol = ones(83, 84)\n",
    "    for i = 1:83\n",
    "        sol[:, i] = simKO(pIn, i)\n",
    "    end\n",
    "    sol[:, 84] = solveODE(pIn)\n",
    "    return sol\n",
    "end"
   ]
  },
  {
   "cell_type": "code",
   "execution_count": 35,
   "metadata": {},
   "outputs": [
    {
     "ename": "ErrorException",
     "evalue": "Mutating arrays is not supported",
     "output_type": "error",
     "traceback": [
      "Mutating arrays is not supported",
      "",
      "Stacktrace:",
      " [1] error(::String) at ./error.jl:33",
      " [2] (::Zygote.var\"#451#452\")(::Nothing) at /home/madisonw/.julia/packages/Zygote/iFibI/src/lib/array.jl:65",
      " [3] (::Zygote.var\"#2360#back#453\"{Zygote.var\"#451#452\"})(::Nothing) at /home/madisonw/.julia/packages/ZygoteRules/6nssF/src/adjoint.jl:49",
      " [4] find_sol at ./In[34]:7 [inlined]",
      " [5] (::typeof(∂(find_sol)))(::Array{Float64,2}) at /home/madisonw/.julia/packages/Zygote/iFibI/src/compiler/interface2.jl:0",
      " [6] cost at ./In[35]:4 [inlined]",
      " [7] (::typeof(∂(cost)))(::Float64) at /home/madisonw/.julia/packages/Zygote/iFibI/src/compiler/interface2.jl:0",
      " [8] (::Zygote.var\"#41#42\"{typeof(∂(cost))})(::Float64) at /home/madisonw/.julia/packages/Zygote/iFibI/src/compiler/interface.jl:45",
      " [9] gradient(::Function, ::Array{Float64,1}) at /home/madisonw/.julia/packages/Zygote/iFibI/src/compiler/interface.jl:54",
      " [10] top-level scope at In[35]:7"
     ]
    }
   ],
   "source": [
    "\" Cost function. Returns SSE between model and experimental RNAseq data. \"\n",
    "function cost(pIn)\n",
    "    exp_data = get_data(\"./de/data/exp_data.csv\")\n",
    "    sol = ones(83, 84)\n",
    "    for i = 1:83\n",
    "        sol[:, i] = simKO(pIn, i)\n",
    "    end\n",
    "    sol[:, 84] = solveODE(pIn)\n",
    "    return norm(sol .- exp_data)\n",
    "end\n",
    "\n",
    "# We can also take the gradient of the cost\n",
    "grads = Zygote.gradient(cost, ps);"
   ]
  },
  {
   "cell_type": "code",
   "execution_count": 7,
   "metadata": {},
   "outputs": [
    {
     "name": "stderr",
     "output_type": "stream",
     "text": [
      "┌ Warning: `CSV.read(input; kw...)` is deprecated in favor of `DataFrame!(CSV.File(input; kw...))`\n",
      "└ @ CSV /home/madisonw/.julia/packages/CSV/W9RT2/src/CSV.jl:40\n"
     ]
    },
    {
     "ename": "ErrorException",
     "evalue": "Mutating arrays is not supported",
     "output_type": "error",
     "traceback": [
      "Mutating arrays is not supported",
      "",
      "Stacktrace:",
      " [1] error(::String) at ./error.jl:33",
      " [2] (::Zygote.var\"#451#452\")(::Nothing) at /home/madisonw/.julia/packages/Zygote/iFibI/src/lib/array.jl:65",
      " [3] (::Zygote.var\"#2360#back#453\"{Zygote.var\"#451#452\"})(::Nothing) at /home/madisonw/.julia/packages/ZygoteRules/6nssF/src/adjoint.jl:49",
      " [4] cost at ./In[6]:8 [inlined]",
      " [5] (::typeof(∂(cost)))(::Float64) at /home/madisonw/.julia/packages/Zygote/iFibI/src/compiler/interface2.jl:0",
      " [6] (::Zygote.var\"#41#42\"{typeof(∂(cost))})(::Float64) at /home/madisonw/.julia/packages/Zygote/iFibI/src/compiler/interface.jl:45",
      " [7] gradient(::Function, ::Array{Float64,1}) at /home/madisonw/.julia/packages/Zygote/iFibI/src/compiler/interface.jl:54",
      " [8] g!(::Array{Float64,1}, ::Array{Float64,1}) at ./In[7]:2",
      " [9] (::NLSolversBase.var\"#fg!#8\"{typeof(cost),typeof(g!)})(::Array{Float64,1}, ::Array{Float64,1}) at /home/madisonw/.julia/packages/NLSolversBase/mGaJg/src/objective_types/abstract.jl:13",
      " [10] value_gradient!!(::OnceDifferentiable{Float64,Array{Float64,1},Array{Float64,1}}, ::Array{Float64,1}) at /home/madisonw/.julia/packages/NLSolversBase/mGaJg/src/interface.jl:82",
      " [11] initial_state(::LBFGS{Nothing,LineSearches.InitialStatic{Float64},LineSearches.HagerZhang{Float64,Base.RefValue{Bool}},Optim.var\"#15#17\"}, ::Optim.Options{Float64,Nothing}, ::OnceDifferentiable{Float64,Array{Float64,1},Array{Float64,1}}, ::Array{Float64,1}) at /home/madisonw/.julia/packages/Optim/TNmSw/src/multivariate/solvers/first_order/l_bfgs.jl:158",
      " [12] optimize(::OnceDifferentiable{Float64,Array{Float64,1},Array{Float64,1}}, ::Array{Float64,1}, ::LBFGS{Nothing,LineSearches.InitialStatic{Float64},LineSearches.HagerZhang{Float64,Base.RefValue{Bool}},Optim.var\"#15#17\"}, ::Optim.Options{Float64,Nothing}) at /home/madisonw/.julia/packages/Optim/TNmSw/src/multivariate/optimize/optimize.jl:33",
      " [13] #optimize#91 at /home/madisonw/.julia/packages/Optim/TNmSw/src/multivariate/optimize/interface.jl:129 [inlined]",
      " [14] optimize(::Function, ::Function, ::Array{Float64,1}, ::LBFGS{Nothing,LineSearches.InitialStatic{Float64},LineSearches.HagerZhang{Float64,Base.RefValue{Bool}},Optim.var\"#15#17\"}, ::Optim.Options{Float64,Nothing}) at /home/madisonw/.julia/packages/Optim/TNmSw/src/multivariate/optimize/interface.jl:127",
      " [15] top-level scope at In[7]:5"
     ]
    }
   ],
   "source": [
    "function g!(G, x)\n",
    "    grads = Zygote.gradient(cost, x)\n",
    "    G[:] .= grads[1]\n",
    "end\n",
    "\n",
    "#optimize(cost, g!, ps, LBFGS(), Optim.Options(iterations = 10, show_trace = true))"
   ]
  },
  {
   "cell_type": "code",
   "execution_count": 9,
   "metadata": {},
   "outputs": [
    {
     "data": {
      "text/plain": [
       "get_data"
      ]
     },
     "execution_count": 9,
     "metadata": {},
     "output_type": "execute_result"
    }
   ],
   "source": [
    "\" Load the experimental data matrix. \"\n",
    "function get_data(path_RNAseq)\n",
    "    # Import RNAseq data as 83 x 84 matrix preprocessed using python\n",
    "    exp = DelimitedFiles.readdlm(path_RNAseq, ',', Float64)\n",
    "    exp = Matrix(exp)\n",
    "    return exp\n",
    "end"
   ]
  },
  {
   "cell_type": "code",
   "execution_count": null,
   "metadata": {},
   "outputs": [],
   "source": []
  }
 ],
 "metadata": {
  "kernelspec": {
   "display_name": "Julia 1.4.1",
   "language": "julia",
   "name": "julia-1.4"
  },
  "language_info": {
   "file_extension": ".jl",
   "mimetype": "application/julia",
   "name": "julia",
   "version": "1.4.1"
  }
 },
 "nbformat": 4,
 "nbformat_minor": 4
}
